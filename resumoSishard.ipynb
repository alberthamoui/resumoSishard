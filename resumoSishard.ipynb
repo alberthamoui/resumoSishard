{
 "cells": [
  {
   "cell_type": "code",
   "execution_count": null,
   "metadata": {
    "vscode": {
     "languageId": "c"
    }
   },
   "outputs": [],
   "source": [
    "// TODOS OS INCLUDES NECESSÁRIOS\n",
    "#include <stdio.h>\n",
    "#include <pthread.h>\n",
    "#include <semaphore.h>\n",
    "#include <stdbool.h>\n",
    "#include <stdlib.h>\n",
    "#include <string.h>\n",
    "#include <unistd.h>\n",
    "#include <fcntl.h>\n",
    "#include <sys/stat.h>\n",
    "#include <stddef.h>"
   ]
  },
  {
   "cell_type": "markdown",
   "metadata": {},
   "source": [
    "# SEMAFOROS E THREAD"
   ]
  },
  {
   "cell_type": "markdown",
   "metadata": {
    "vscode": {
     "languageId": "c"
    }
   },
   "source": [
    "COMO RODAR\n",
    "\n",
    "\n",
    "`gcc q1.c -o q1 -pthread`\n",
    "\n",
    "\n",
    "`./q1`"
   ]
  },
  {
   "cell_type": "code",
   "execution_count": null,
   "metadata": {
    "vscode": {
     "languageId": "c"
    }
   },
   "outputs": [],
   "source": [
    "// Criando os semáforos\n",
    "sem_t sem1, sem2;\n",
    "\n",
    "// Criando as threads\n",
    "void *thread1(void *_arg) {\n",
    "    printf(\"A\\n\");\n",
    "    sem_post(&sem1);\n",
    "    return NULL;\n",
    "}\n",
    "\n",
    "void *thread2(void *_arg) {\n",
    "    sem_wait(&sem1);\n",
    "    printf(\"B\\n\");\n",
    "    return NULL;\n",
    "}\n",
    "\n",
    "\n",
    "int main(int argc, char *argv[]) {\n",
    "    // Criando as threads em um laço\n",
    "    pthread_t t1, t2;\n",
    "    pthread_t listaThreads [2] = {t1, t2};\n",
    "\n",
    "    pthread_create(&t1, NULL, thread1, NULL);\n",
    "    pthread_create(&t2, NULL, thread2, NULL);\n",
    "    \n",
    "    // Espere por TODAS as threads\n",
    "    for (int i = 0; i < 2; i++) {\n",
    "        pthread_join(listaThreads[i], NULL);\n",
    "    }\n",
    "\n",
    "    // pthread_t listaThreads[2] = {t1, t2};    \n",
    "    // for (int i = 0; i < 2; i++) {\n",
    "    //     pthread_create(&listaThreads[i], NULL, listaFunc[i], NULL);\n",
    "    // }\n",
    "    // for (int i = 0; i < 2; i++){\n",
    "    //     pthread_join(listaThreads[i], NULL);\n",
    "    // }\n",
    "\n",
    "    // Inicializando semáforos\n",
    "    sem_init(&sem1, 0, 1); // 1 para o semáforo começar disponível\n",
    "    sem_init(&sem2, 0, 0);\n",
    "\n",
    "    // Destruindo semáforos\n",
    "    sem_destroy(&sem1);\n",
    "    sem_destroy(&sem2);\n",
    "\n",
    "    return 0;\n",
    "}"
   ]
  },
  {
   "cell_type": "markdown",
   "metadata": {},
   "source": [
    "# PROCESSO PAI & FILHO"
   ]
  },
  {
   "cell_type": "markdown",
   "metadata": {},
   "source": [
    "COMO RODAR\n",
    "\n",
    "\n",
    "`gcc -g q2.c -o q2`\n",
    "\n",
    "\n",
    "`./q2 abc123 def45 25` na questao provavel vai ter um exemplo"
   ]
  },
  {
   "cell_type": "code",
   "execution_count": null,
   "metadata": {
    "vscode": {
     "languageId": "c"
    }
   },
   "outputs": [],
   "source": [
    "pid_t pid;\n",
    "pid = fork();\n",
    "\n",
    "if (pid == 0) { // FILHO\n",
    "    // CODIGO\n",
    "} else { // PAI\n",
    "    // CODIGO\n",
    "}"
   ]
  },
  {
   "cell_type": "code",
   "execution_count": null,
   "metadata": {
    "vscode": {
     "languageId": "c"
    }
   },
   "outputs": [],
   "source": [
    "// Fazer uma coisa ate dar certo \n",
    "do {\n",
    "    pid = fork();\n",
    "\n",
    "    if (pid == 0) { // FILHO\n",
    "        execl(\"./siscoin\", \"siscoin\", argv[1], argv[2], argv[3], (char *) NULL);\n",
    "        perror(\"execl falhou\");\n",
    "        exit(EXIT_FAILURE); // Se execl falhar, termina o filho com falha\n",
    "    } else { // PAI\n",
    "        wait(&wst); // Espero o filhao\n",
    "        if (WIFEXITED(wst)) {\n",
    "            ret = WEXITSTATUS(wst);\n",
    "        }\n",
    "    }\n",
    "} while (ret > 0);"
   ]
  },
  {
   "cell_type": "markdown",
   "metadata": {},
   "source": [
    "# MEXER COM ARQUIVOS .TXT"
   ]
  },
  {
   "cell_type": "markdown",
   "metadata": {},
   "source": [
    "COMO RODAR\n",
    "\n",
    "\n",
    "``\n",
    "\n",
    "\n",
    "``"
   ]
  },
  {
   "cell_type": "code",
   "execution_count": null,
   "metadata": {
    "vscode": {
     "languageId": "c"
    }
   },
   "outputs": [],
   "source": [
    "void cria_arquivo() {\n",
    "    int fd = open(\"nome.txt\", O_CREAT | O_WRONLY | O_TRUNC, 0644);\n",
    "    if (fd == -1) {\n",
    "        perror(\"Falha ao abrir o arquivo\");\n",
    "        exit(EXIT_FAILURE);\n",
    "    }\n",
    "    char buffer[50];\n",
    "    int len = sprintf(buffer, \"oq que voce quer deixar escrito no arquivo %d\", linha_proc);//funciona igual print, esse ultimo argumento eh oq vai ser escrito\n",
    "    write(fd, buffer, len);\n",
    "    close(fd);\n",
    "}\n",
    "\n",
    "void signal_handler(int sig) {\n",
    "    cria_arquivo();\n",
    "    exit(sig);\n",
    "}\n",
    "\n",
    "int main(){\n",
    "    // CODE\n",
    "    signal(SIGINT, signal_handler); //ae em vez de ser SIGINT, pode ser outros tipos de sinais, ae vc soh escreve qual vc quer ali no lugar, e se quiser mais de um sinal diferente, cria essa linha mais de uma vez, com um nome em cada uma \n",
    "    // CODE\n",
    "}"
   ]
  }
 ],
 "metadata": {
  "language_info": {
   "name": "python"
  }
 },
 "nbformat": 4,
 "nbformat_minor": 2
}
