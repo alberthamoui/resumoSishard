{
 "cells": [
  {
   "cell_type": "code",
   "execution_count": null,
   "metadata": {
    "vscode": {
     "languageId": "c"
    }
   },
   "outputs": [],
   "source": [
    "// TODOS OS INCLUDES NECESSÁRIOS\n",
    "#include <stdio.h>\n",
    "#include <pthread.h>\n",
    "#include <semaphore.h>\n",
    "#include <stdbool.h>\n",
    "#include <stdlib.h>\n",
    "#include <string.h>\n",
    "#include <unistd.h>\n",
    "#include <fcntl.h>\n",
    "#include <sys/stat.h>\n",
    "#include <stddef.h>"
   ]
  },
  {
   "cell_type": "markdown",
   "metadata": {},
   "source": [
    "# SEMAFOROS E THREAD"
   ]
  },
  {
   "cell_type": "markdown",
   "metadata": {
    "vscode": {
     "languageId": "c"
    }
   },
   "source": [
    "COMO RODAR\n",
    "\n",
    "\n",
    "`gcc q1.c -o q1 -pthread`\n",
    "\n",
    "\n",
    "`./q1`"
   ]
  },
  {
   "cell_type": "code",
   "execution_count": null,
   "metadata": {
    "vscode": {
     "languageId": "c"
    }
   },
   "outputs": [],
   "source": [
    "// Criando os semáforos\n",
    "sem_t sem1, sem2;\n",
    "\n",
    "// Criando as threads\n",
    "void *thread1(void *_arg) {\n",
    "    printf(\"A\\n\");\n",
    "    sem_post(&sem1);\n",
    "    return NULL;\n",
    "}\n",
    "\n",
    "void *thread2(void *_arg) {\n",
    "    sem_wait(&sem1);\n",
    "    printf(\"B\\n\");\n",
    "    return NULL;\n",
    "}\n",
    "\n",
    "\n",
    "int main(int argc, char *argv[]) {\n",
    "    // Criando as threads em um laço\n",
    "    pthread_t t1, t2;\n",
    "    pthread_t listaThreads [2] = {t1, t2};\n",
    "    void *(*listaFunc[4])(void *) = {thread1, thread2, thread3, thread4};\n",
    "\n",
    "    pthread_create(&t1, NULL, thread1, NULL);\n",
    "    pthread_create(&t2, NULL, thread2, NULL);\n",
    "    \n",
    "    // Espere por TODAS as threads\n",
    "    for (int i = 0; i < 2; i++) {\n",
    "        pthread_join(listaThreads[i], NULL);\n",
    "    }\n",
    "\n",
    "    // FAZENDO COM LOOP\n",
    "    // pthread_t listaThreads[2] = {t1, t2};    \n",
    "    // for (int i = 0; i < 2; i++) {\n",
    "    //     pthread_create(&listaThreads[i], NULL, listaFunc[i], NULL);\n",
    "    // }\n",
    "    // for (int i = 0; i < 2; i++){\n",
    "    //     pthread_join(listaThreads[i], NULL);\n",
    "    // }\n",
    "\n",
    "    // Inicializando semáforos\n",
    "    sem_init(&sem1, 0, 1); // 1 para o semáforo começar disponível\n",
    "    sem_init(&sem2, 0, 0);\n",
    "\n",
    "    // Destruindo semáforos\n",
    "    sem_destroy(&sem1);\n",
    "    sem_destroy(&sem2);\n",
    "\n",
    "    return 0;\n",
    "}"
   ]
  },
  {
   "cell_type": "code",
   "execution_count": null,
   "metadata": {
    "vscode": {
     "languageId": "c"
    }
   },
   "outputs": [],
   "source": [
    "struct semaforos{\n",
    "    sem_t *sa;\n",
    "    sem_t *sb;\n",
    "    sem_t *sc;\n",
    "};\n",
    "\n",
    "void *thread1(void *_arg) {\n",
    "    struct semaforos * rdv_sem = _arg;\n",
    "\n",
    "    printf(\"A\\n\");\n",
    "\n",
    "    // ja q 2 threads esperam A, ele avisa 2x\n",
    "    sem_post(rdv_sem->sa);\n",
    "    sem_post(rdv_sem->sa);\n",
    "\n",
    "\n",
    "    sem_wait(rdv_sem->sb);\n",
    "    sem_wait(rdv_sem->sc);\n",
    "    printf(\"E\\n\");\n",
    "\n",
    "    return NULL;\n",
    "}\n",
    "void *thread2(void *_arg) {\n",
    "    struct semaforos * rdv_sem = _arg;\n",
    "\n",
    "    sem_wait(rdv_sem->sa);\n",
    "    printf(\"B\\n\");\n",
    "    sem_post(rdv_sem->sb);\n",
    "\n",
    "    return NULL;\n",
    "}\n",
    "void *thread3(void *_arg) {\n",
    "    struct semaforos * rdv_sem = _arg;\n",
    "    \n",
    "    sem_wait(rdv_sem->sa);\n",
    "    printf(\"C\\n\");\n",
    "    sem_post(rdv_sem->sc);\n",
    "\n",
    "    return NULL;\n",
    "}\n",
    "int main(int argc, char *argv[]) {\n",
    "    pthread_t t1, t2, t3, t4;\n",
    "    pthread_t listaThreads[4] = {t1, t2, t3, t4};\n",
    "    void *(*listaFunc[4])(void *) = {thread1, thread2, thread3, thread4};\n",
    "\n",
    "    struct semaforos sem_xrdv;\n",
    "    sem_t sa, sb, sc;\n",
    "    rdv_sem.sa = &sa;\n",
    "    rdv_sem.sb = &sb;\n",
    "    rdv_sem.sc = &sc;\n",
    "\n",
    "    sem_init(&sa, 0, 0);\n",
    "    sem_init(&sb, 0, 0);\n",
    "    sem_init(&sc, 0, 0);\n",
    "\n",
    "\n",
    "\n",
    "    pthread_t listaThreads[4] = {t1, t2, t3, t4};    \n",
    "    for (int i = 0; i < 4; i++) {\n",
    "        pthread_create(&listaThreads[i], NULL, listaFunc[i], &rdv_sem);\n",
    "    }\n",
    "    for (int i = 0; i < 4; i++){\n",
    "        pthread_join(listaThreads[i], NULL);\n",
    "    }\n",
    "\n",
    "\n",
    "    // Destruindo semáforos\n",
    "    sem_destroy(&sa);\n",
    "    sem_destroy(&sb);\n",
    "    sem_destroy(&sc);\n",
    "    return 0;\n",
    "}\n",
    "\n"
   ]
  },
  {
   "cell_type": "markdown",
   "metadata": {},
   "source": [
    "# PROCESSO PAI & FILHO"
   ]
  },
  {
   "cell_type": "markdown",
   "metadata": {},
   "source": [
    "COMO RODAR\n",
    "\n",
    "\n",
    "`gcc -g q2.c -o q2`\n",
    "\n",
    "\n",
    "`./q2 abc123 def45 25` na questao provavel vai ter um exemplo"
   ]
  },
  {
   "cell_type": "code",
   "execution_count": null,
   "metadata": {
    "vscode": {
     "languageId": "c"
    }
   },
   "outputs": [],
   "source": [
    "pid_t pid;\n",
    "pid = fork();\n",
    "\n",
    "if (pid == 0) { // FILHO\n",
    "    // CODIGO\n",
    "} else { // PAI\n",
    "    // CODIGO\n",
    "}"
   ]
  },
  {
   "cell_type": "code",
   "execution_count": null,
   "metadata": {
    "vscode": {
     "languageId": "c"
    }
   },
   "outputs": [],
   "source": [
    "// Fazer uma coisa ate dar certo \n",
    "do {\n",
    "    pid = fork();\n",
    "\n",
    "    if (pid == 0) { // FILHO\n",
    "        execl(\"./siscoin\", \"siscoin\", argv[1], argv[2], argv[3], (char *) NULL);\n",
    "        perror(\"execl falhou\");\n",
    "        exit(EXIT_FAILURE); // Se execl falhar, termina o filho com falha\n",
    "    } else { // PAI\n",
    "        wait(&wst); // Espero o filhao\n",
    "        if (WIFEXITED(wst)) {\n",
    "            ret = WEXITSTATUS(wst);\n",
    "        }\n",
    "    }\n",
    "} while (ret > 0);"
   ]
  },
  {
   "cell_type": "markdown",
   "metadata": {},
   "source": [
    "# MEXER COM ARQUIVOS .TXT"
   ]
  },
  {
   "cell_type": "markdown",
   "metadata": {},
   "source": [
    "COMO RODAR\n",
    "\n",
    "\n",
    "``\n",
    "\n",
    "\n",
    "``"
   ]
  },
  {
   "cell_type": "code",
   "execution_count": null,
   "metadata": {
    "vscode": {
     "languageId": "c"
    }
   },
   "outputs": [],
   "source": [
    "// RODAR ATE PARAR\n",
    "\n",
    "void cria_arquivo() {\n",
    "    int fd = open(\"nome.txt\", O_CREAT | O_WRONLY | O_TRUNC, 0644);\n",
    "    if (fd == -1) {\n",
    "        perror(\"Falha ao abrir o arquivo\");\n",
    "        exit(EXIT_FAILURE);\n",
    "    }\n",
    "    char buffer[50];\n",
    "    int len = sprintf(buffer, \"oq que voce quer deixar escrito no arquivo %d\", linha_proc);//funciona igual print, esse ultimo argumento eh oq vai ser escrito\n",
    "    write(fd, buffer, len);\n",
    "    close(fd);\n",
    "}\n",
    "\n",
    "void signal_handler(int sig) {\n",
    "    cria_arquivo();\n",
    "    exit(sig);\n",
    "}\n",
    "\n",
    "int main(){\n",
    "    // CODE\n",
    "    signal(SIGINT, signal_handler); //ae em vez de ser SIGINT, pode ser outros tipos de sinais, ae vc soh escreve qual vc quer ali no lugar, e se quiser mais de um sinal diferente, cria essa linha mais de uma vez, com um nome em cada uma \n",
    "    // CODE\n",
    "}"
   ]
  },
  {
   "cell_type": "markdown",
   "metadata": {},
   "source": [
    "# LER E ESCREVER EM ARQUIVOS .TXT"
   ]
  },
  {
   "cell_type": "code",
   "execution_count": null,
   "metadata": {
    "vscode": {
     "languageId": "c"
    }
   },
   "outputs": [],
   "source": [
    "sem_t sem;\n",
    "\n",
    "void *funcao1(void *_arg){\n",
    "    t_arg *arg = _arg;\n",
    "    \n",
    "    sem_wait(&sem);\n",
    "    arg->res = funcao(arg->palavra);\n",
    "    sem_post(&sem);\n",
    "}\n",
    "\n",
    "/* Função que lê uma palavra de um arquivo.\n",
    " * Considere que cada linha do arquivo contem apenas uma palavra.\n",
    " *\n",
    " * Entradas:\n",
    " *   int fd: descritor do arquivo\n",
    " *\n",
    " * Saída:\n",
    " *   Ponteiro (char *) para uma string com a palavra lida (sem \\n). Caso o arquivo termine, retorne NULL.\n",
    " */\n",
    "char *read_line(int fd){\n",
    "    char *linha = malloc(MAX_LINE_LENGTH);\n",
    "    char c;\n",
    "    int index = 0;\n",
    "\n",
    "    while (read(fd, &c, 1) == 1){\n",
    "        if (c == '\\n' || c == '\\0') break;  // Stop at newline or null character\n",
    "\n",
    "        if (index < MAX_LINE_LENGTH - 1){\n",
    "            linha[index++] = c;\n",
    "        }\n",
    "    }\n",
    "\n",
    "    linha[index] = '\\0';  // Null-terminate the string\n",
    "\n",
    "    if (index == 0){  // If no characters were read\n",
    "        free(linha);\n",
    "        return NULL;\n",
    "    }\n",
    "    return linha;\n",
    "}\n",
    "\n",
    "\n",
    "int main(int argc, char *argv[]){\n",
    "\n",
    "    if (argc != 3){\n",
    "        printf(\"USAGE:\\n./q4 <n_threads> <file_name>\\n\");\n",
    "        return 0;\n",
    "    }\n",
    "\n",
    "    int n_threads = atoi(argv[1]); // Info da linha de comando\n",
    "    char *file_name = argv[2];     // Info da linha de comando\n",
    "\n",
    "    int fd1 = open(file_name, O_RDONLY);\n",
    "\n",
    "    if (fd1 == -1){\n",
    "        fprintf(stderr, \"Falha ao abrir o arquivo!\\n\");\n",
    "        exit(EXIT_FAILURE);\n",
    "    }\n",
    "\n",
    "    srand(time(NULL));\n",
    "\n",
    "    sem_init(&sem, 0, n_threads);\n",
    "\n",
    "    int threads_limit = 2; // Vamos começar alocando espaço para 02 threads\n",
    "    pthread_t *tids = malloc(sizeof(pthread_t) * threads_limit);\n",
    "    t_arg **args = malloc(sizeof(t_arg *) * threads_limit);\n",
    "\n",
    "    int threads_created = 0; // Quantas threads criei de fato\n",
    "\n",
    "    int class_count[3] = {0};\n",
    "\n",
    "    for (int i = 0;; i++){\n",
    "        // Tenta ler uma palavra\n",
    "        char *palavra = read_line(fd1);\n",
    "\n",
    "        // Para quando não conseguir mais ler\n",
    "        if (palavra == NULL){\n",
    "            break;\n",
    "        }\n",
    "\n",
    "        t_arg *arg = malloc(sizeof(t_arg));\n",
    "        // Passa a palavra para a thread\n",
    "        arg->palavra = palavra;\n",
    "\n",
    "        // Realoca se necessário\n",
    "        if (threads_limit == threads_created){\n",
    "            threads_limit *= 2;\n",
    "            tids = realloc(tids, sizeof(pthread_t) * threads_limit);\n",
    "            args = realloc(args, sizeof(t_arg *) * threads_limit);\n",
    "        }\n",
    "\n",
    "        args[i] = arg;\n",
    "\n",
    "        pthread_create(&tids[i], NULL, classifier_thread, arg);\n",
    "        printf(\"CRIOU THREAD %02d PARA PROCESSAR A PALAVRA %s\\n\", i, arg->palavra);\n",
    "\n",
    "        threads_created++;\n",
    "    }\n",
    "\n",
    "    for (int i = 0; i < threads_created; i++){\n",
    "        int resultado = classifier(args[i]->palavra);\n",
    "        printf(\"THREAD %d TERMINOU COM O RESULTADO %d\\n\", i, resultado);\n",
    "    }\n",
    "\n",
    "    for (int i = 0; i < threads_created; i++){\n",
    "        pthread_join(tids[i],NULL);\n",
    "        class_count[args[i]->res]++;\n",
    "        free(args[i]->palavra);\n",
    "        free(args[i]);\n",
    "    }\n",
    "\n",
    "    printf(\"RESULTADO:\\n\");\n",
    "    for (int i = 0; i < 3; i++){\n",
    "        printf(\"TOTAL CLASSE %d: %d\\n\", i, class_count[i]);\n",
    "    }\n",
    "\n",
    "    sem_destroy(&sem);\n",
    "    close(fd1);\n",
    "    free(tids);\n",
    "    free(args);\n",
    "\n",
    "    return 0;\n",
    "}"
   ]
  }
 ],
 "metadata": {
  "language_info": {
   "name": "python"
  }
 },
 "nbformat": 4,
 "nbformat_minor": 2
}
